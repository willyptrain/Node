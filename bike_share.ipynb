{
  "nbformat": 4,
  "nbformat_minor": 0,
  "metadata": {
    "colab": {
      "name": "bike_share.ipynb",
      "version": "0.3.2",
      "provenance": [],
      "collapsed_sections": [],
      "include_colab_link": true
    },
    "kernelspec": {
      "name": "python3",
      "display_name": "Python 3"
    }
  },
  "cells": [
    {
      "cell_type": "markdown",
      "metadata": {
        "id": "view-in-github",
        "colab_type": "text"
      },
      "source": [
        "[View in Colaboratory](https://colab.research.google.com/github/willyptrain/Node/blob/master/bike_share.ipynb)"
      ]
    },
    {
      "metadata": {
        "id": "dtXciJlckQNw",
        "colab_type": "code",
        "colab": {
          "resources": {
            "http://localhost:8080/nbextensions/google.colab/files.js": {
              "data": "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",
              "ok": true,
              "headers": [
                [
                  "content-type",
                  "application/javascript"
                ]
              ],
              "status": 200,
              "status_text": ""
            }
          },
          "base_uri": "https://localhost:8080/",
          "height": 106
        },
        "outputId": "9b12e22d-f5a5-4392-b5c5-28f64eb06018"
      },
      "cell_type": "code",
      "source": [
        "import pandas as pd\n",
        "import plotly.plotly as py\n",
        "import plotly.graph_objs as go\n",
        "import matplotlib\n",
        "from google.colab import files\n",
        "import numpy as np\n",
        "from collections import Counter\n",
        "\n",
        "files.upload()"
      ],
      "execution_count": 2,
      "outputs": [
        {
          "output_type": "display_data",
          "data": {
            "text/html": [
              "\n",
              "     <input type=\"file\" id=\"files-929c39a3-338e-45c2-8dff-57522d5bae02\" name=\"files[]\" multiple disabled />\n",
              "     <output id=\"result-929c39a3-338e-45c2-8dff-57522d5bae02\">\n",
              "      Upload widget is only available when the cell has been executed in the\n",
              "      current browser session. Please rerun this cell to enable.\n",
              "      </output>\n",
              "      <script src=\"/nbextensions/google.colab/files.js\"></script> "
            ],
            "text/plain": [
              "<IPython.core.display.HTML object>"
            ]
          },
          "metadata": {
            "tags": []
          }
        },
        {
          "output_type": "stream",
          "text": [
            "Saving metro-bike-share-trip-data.csv to metro-bike-share-trip-data.csv\n"
          ],
          "name": "stdout"
        }
      ]
    },
    {
      "metadata": {
        "id": "V1n3gdealEOG",
        "colab_type": "code",
        "colab": {
          "base_uri": "https://localhost:8080/",
          "height": 581
        },
        "outputId": "3f5744a6-85c6-4960-d57e-076c13fd4cc2"
      },
      "cell_type": "code",
      "source": [
        "bike_data = pd.read_csv('metro-bike-share-trip-data.csv')\n",
        "py.sign_in('willyptrain', '9d5732GHrY1GRMyOzVZ6')\n",
        "bike_data.head()"
      ],
      "execution_count": 58,
      "outputs": [
        {
          "output_type": "stream",
          "text": [
            "/usr/local/lib/python3.6/dist-packages/IPython/core/interactiveshell.py:2718: DtypeWarning:\n",
            "\n",
            "Columns (14) have mixed types. Specify dtype option on import or set low_memory=False.\n",
            "\n"
          ],
          "name": "stderr"
        },
        {
          "output_type": "execute_result",
          "data": {
            "text/html": [
              "<div>\n",
              "<style scoped>\n",
              "    .dataframe tbody tr th:only-of-type {\n",
              "        vertical-align: middle;\n",
              "    }\n",
              "\n",
              "    .dataframe tbody tr th {\n",
              "        vertical-align: top;\n",
              "    }\n",
              "\n",
              "    .dataframe thead th {\n",
              "        text-align: right;\n",
              "    }\n",
              "</style>\n",
              "<table border=\"1\" class=\"dataframe\">\n",
              "  <thead>\n",
              "    <tr style=\"text-align: right;\">\n",
              "      <th></th>\n",
              "      <th>Trip ID</th>\n",
              "      <th>Duration</th>\n",
              "      <th>Start Time</th>\n",
              "      <th>End Time</th>\n",
              "      <th>Starting Station ID</th>\n",
              "      <th>Starting Station Latitude</th>\n",
              "      <th>Starting Station Longitude</th>\n",
              "      <th>Ending Station ID</th>\n",
              "      <th>Ending Station Latitude</th>\n",
              "      <th>Ending Station Longitude</th>\n",
              "      <th>Bike ID</th>\n",
              "      <th>Plan Duration</th>\n",
              "      <th>Trip Route Category</th>\n",
              "      <th>Passholder Type</th>\n",
              "      <th>Starting Lat-Long</th>\n",
              "      <th>Ending Lat-Long</th>\n",
              "    </tr>\n",
              "  </thead>\n",
              "  <tbody>\n",
              "    <tr>\n",
              "      <th>0</th>\n",
              "      <td>1912818</td>\n",
              "      <td>180</td>\n",
              "      <td>2016-07-07T04:17:00</td>\n",
              "      <td>2016-07-07T04:20:00</td>\n",
              "      <td>3014.0</td>\n",
              "      <td>34.056610</td>\n",
              "      <td>-118.23721</td>\n",
              "      <td>3014.0</td>\n",
              "      <td>34.056610</td>\n",
              "      <td>-118.23721</td>\n",
              "      <td>6281.0</td>\n",
              "      <td>30.0</td>\n",
              "      <td>Round Trip</td>\n",
              "      <td>Monthly Pass</td>\n",
              "      <td>{'longitude': '-118.23721', 'latitude': '34.05...</td>\n",
              "      <td>{'longitude': '-118.23721', 'latitude': '34.05...</td>\n",
              "    </tr>\n",
              "    <tr>\n",
              "      <th>1</th>\n",
              "      <td>1919661</td>\n",
              "      <td>1980</td>\n",
              "      <td>2016-07-07T06:00:00</td>\n",
              "      <td>2016-07-07T06:33:00</td>\n",
              "      <td>3014.0</td>\n",
              "      <td>34.056610</td>\n",
              "      <td>-118.23721</td>\n",
              "      <td>3014.0</td>\n",
              "      <td>34.056610</td>\n",
              "      <td>-118.23721</td>\n",
              "      <td>6281.0</td>\n",
              "      <td>30.0</td>\n",
              "      <td>Round Trip</td>\n",
              "      <td>Monthly Pass</td>\n",
              "      <td>{'longitude': '-118.23721', 'latitude': '34.05...</td>\n",
              "      <td>{'longitude': '-118.23721', 'latitude': '34.05...</td>\n",
              "    </tr>\n",
              "    <tr>\n",
              "      <th>2</th>\n",
              "      <td>1933383</td>\n",
              "      <td>300</td>\n",
              "      <td>2016-07-07T10:32:00</td>\n",
              "      <td>2016-07-07T10:37:00</td>\n",
              "      <td>3016.0</td>\n",
              "      <td>34.052898</td>\n",
              "      <td>-118.24156</td>\n",
              "      <td>3016.0</td>\n",
              "      <td>34.052898</td>\n",
              "      <td>-118.24156</td>\n",
              "      <td>5861.0</td>\n",
              "      <td>365.0</td>\n",
              "      <td>Round Trip</td>\n",
              "      <td>Flex Pass</td>\n",
              "      <td>{'longitude': '-118.24156', 'latitude': '34.05...</td>\n",
              "      <td>{'longitude': '-118.24156', 'latitude': '34.05...</td>\n",
              "    </tr>\n",
              "    <tr>\n",
              "      <th>3</th>\n",
              "      <td>1944197</td>\n",
              "      <td>10860</td>\n",
              "      <td>2016-07-07T10:37:00</td>\n",
              "      <td>2016-07-07T13:38:00</td>\n",
              "      <td>3016.0</td>\n",
              "      <td>34.052898</td>\n",
              "      <td>-118.24156</td>\n",
              "      <td>3016.0</td>\n",
              "      <td>34.052898</td>\n",
              "      <td>-118.24156</td>\n",
              "      <td>5861.0</td>\n",
              "      <td>365.0</td>\n",
              "      <td>Round Trip</td>\n",
              "      <td>Flex Pass</td>\n",
              "      <td>{'longitude': '-118.24156', 'latitude': '34.05...</td>\n",
              "      <td>{'longitude': '-118.24156', 'latitude': '34.05...</td>\n",
              "    </tr>\n",
              "    <tr>\n",
              "      <th>4</th>\n",
              "      <td>1940317</td>\n",
              "      <td>420</td>\n",
              "      <td>2016-07-07T12:51:00</td>\n",
              "      <td>2016-07-07T12:58:00</td>\n",
              "      <td>3032.0</td>\n",
              "      <td>34.049889</td>\n",
              "      <td>-118.25588</td>\n",
              "      <td>3032.0</td>\n",
              "      <td>34.049889</td>\n",
              "      <td>-118.25588</td>\n",
              "      <td>6674.0</td>\n",
              "      <td>0.0</td>\n",
              "      <td>Round Trip</td>\n",
              "      <td>Walk-up</td>\n",
              "      <td>{'longitude': '-118.25588', 'latitude': '34.04...</td>\n",
              "      <td>{'longitude': '-118.25588', 'latitude': '34.04...</td>\n",
              "    </tr>\n",
              "  </tbody>\n",
              "</table>\n",
              "</div>"
            ],
            "text/plain": [
              "   Trip ID  Duration           Start Time             End Time  \\\n",
              "0  1912818       180  2016-07-07T04:17:00  2016-07-07T04:20:00   \n",
              "1  1919661      1980  2016-07-07T06:00:00  2016-07-07T06:33:00   \n",
              "2  1933383       300  2016-07-07T10:32:00  2016-07-07T10:37:00   \n",
              "3  1944197     10860  2016-07-07T10:37:00  2016-07-07T13:38:00   \n",
              "4  1940317       420  2016-07-07T12:51:00  2016-07-07T12:58:00   \n",
              "\n",
              "   Starting Station ID  Starting Station Latitude  Starting Station Longitude  \\\n",
              "0               3014.0                  34.056610                  -118.23721   \n",
              "1               3014.0                  34.056610                  -118.23721   \n",
              "2               3016.0                  34.052898                  -118.24156   \n",
              "3               3016.0                  34.052898                  -118.24156   \n",
              "4               3032.0                  34.049889                  -118.25588   \n",
              "\n",
              "   Ending Station ID  Ending Station Latitude  Ending Station Longitude  \\\n",
              "0             3014.0                34.056610                -118.23721   \n",
              "1             3014.0                34.056610                -118.23721   \n",
              "2             3016.0                34.052898                -118.24156   \n",
              "3             3016.0                34.052898                -118.24156   \n",
              "4             3032.0                34.049889                -118.25588   \n",
              "\n",
              "   Bike ID  Plan Duration Trip Route Category Passholder Type  \\\n",
              "0   6281.0           30.0          Round Trip    Monthly Pass   \n",
              "1   6281.0           30.0          Round Trip    Monthly Pass   \n",
              "2   5861.0          365.0          Round Trip       Flex Pass   \n",
              "3   5861.0          365.0          Round Trip       Flex Pass   \n",
              "4   6674.0            0.0          Round Trip         Walk-up   \n",
              "\n",
              "                                   Starting Lat-Long  \\\n",
              "0  {'longitude': '-118.23721', 'latitude': '34.05...   \n",
              "1  {'longitude': '-118.23721', 'latitude': '34.05...   \n",
              "2  {'longitude': '-118.24156', 'latitude': '34.05...   \n",
              "3  {'longitude': '-118.24156', 'latitude': '34.05...   \n",
              "4  {'longitude': '-118.25588', 'latitude': '34.04...   \n",
              "\n",
              "                                     Ending Lat-Long  \n",
              "0  {'longitude': '-118.23721', 'latitude': '34.05...  \n",
              "1  {'longitude': '-118.23721', 'latitude': '34.05...  \n",
              "2  {'longitude': '-118.24156', 'latitude': '34.05...  \n",
              "3  {'longitude': '-118.24156', 'latitude': '34.05...  \n",
              "4  {'longitude': '-118.25588', 'latitude': '34.04...  "
            ]
          },
          "metadata": {
            "tags": []
          },
          "execution_count": 58
        }
      ]
    },
    {
      "metadata": {
        "id": "R3NapiBgmaof",
        "colab_type": "code",
        "colab": {
          "base_uri": "https://localhost:8080/",
          "height": 34
        },
        "outputId": "61a1447c-7283-48b9-f96d-ac054e318b1a"
      },
      "cell_type": "code",
      "source": [
        "\n",
        "def string_coords(arr):\n",
        "  new_arr = []\n",
        "  arr = arr.tolist()\n",
        "  for i in arr:\n",
        "    temp_str = \"\"\n",
        "    for c in i:\n",
        "      temp_str += str(c)\n",
        "    new_arr.append(temp_str)\n",
        "  return new_arr\n",
        "\n",
        "\n",
        "end_interval = 1000\n",
        "bike_data = bike_data[0:end_interval]\n",
        "\n",
        "start_times = bike_data['Start Time'][0:end_interval]\n",
        "end_times = bike_data['End Time'][0:end_interval]\n",
        "\n",
        "start_lat = bike_data['Starting Station Latitude'][0:end_interval].as_matrix()\n",
        "start_long = bike_data['Starting Station Longitude'][0:end_interval]\n",
        "start_coords = np.column_stack([start_lat, start_long])\n",
        "str_start_coords = string_coords(start_coords)\n",
        "start_counts = Counter(str_start_coords)\n",
        "\n",
        "'''end_lat = bike_data['Ending Station Latitude'][0:end_interval].as_matrix()\n",
        "end_long = bike_data['Ending Station Longitude'][0:end_interval]\n",
        "end_coords = np.column_stack([end_lat, end_long])\n",
        "str_end_coords = string_coords(end_coords)\n",
        "end_counts = Counter(str_end_coords)\n",
        "'''\n",
        "x = []\n",
        "y = []\n",
        "lats = []\n",
        "longs = []\n",
        "freqs = []\n",
        "\n",
        "def organize():\n",
        "  coord_freq = list(start_counts.items())\n",
        "  for i in range(0, len(coord_freq)):\n",
        "    try:\n",
        "      lats.append((coord_freq[i][0].split(\"-\"))[0])\n",
        "      longs.append((coord_freq[i][0].split(\"-\"))[1])\n",
        "      freqs.append(coord_freq[i][1])\n",
        "    except:\n",
        "      #do nothing\n",
        "      print(len(freqs))\n",
        "  \n",
        "def graph(): \n",
        "  data = [dict(\n",
        "    type = 'scattergeo',\n",
        "    locationmode = 'California',\n",
        "    lon = start_long,\n",
        "    lat = start_lat,\n",
        "    mode = 'markers',\n",
        "    marker = dict(\n",
        "      size = np.array(freqs), \n",
        "      color = np.array(freqs),\n",
        "      colorscale = \"spectral\"\n",
        "    )\n",
        "  )]\n",
        "  layout = dict(\n",
        "    title = 'Bike Share Data',\n",
        "    geo = dict(\n",
        "        scope='CA',\n",
        "        projection = dict(type='aitoff')\n",
        "    )\n",
        "  )\n",
        "  fig = dict(data=data, layout=layout)\n",
        "  py.iplot( fig, filename='d3-chloropleth-map')\n",
        "  \n",
        "organize()\n"
      ],
      "execution_count": 90,
      "outputs": [
        {
          "output_type": "stream",
          "text": [
            "41\n"
          ],
          "name": "stdout"
        }
      ]
    },
    {
      "metadata": {
        "id": "6dJwsUzIqAmH",
        "colab_type": "code",
        "colab": {}
      },
      "cell_type": "code",
      "source": [
        "graph()"
      ],
      "execution_count": 0,
      "outputs": []
    },
    {
      "metadata": {
        "id": "POz8sIb1FDrb",
        "colab_type": "code",
        "colab": {}
      },
      "cell_type": "code",
      "source": [
        "\n",
        "\n"
      ],
      "execution_count": 0,
      "outputs": []
    },
    {
      "metadata": {
        "id": "Nk7suaWfF8SV",
        "colab_type": "code",
        "colab": {}
      },
      "cell_type": "code",
      "source": [
        ""
      ],
      "execution_count": 0,
      "outputs": []
    }
  ]
}